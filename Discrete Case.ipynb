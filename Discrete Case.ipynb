{
 "cells": [
  {
   "cell_type": "markdown",
   "metadata": {},
   "source": [
    "# Continuous Advantage-Critic Model in Tensorflow 2.0"
   ]
  },
  {
   "cell_type": "markdown",
   "metadata": {},
   "source": [
    "#### Imports"
   ]
  },
  {
   "cell_type": "code",
   "execution_count": 124,
   "metadata": {},
   "outputs": [],
   "source": [
    "import tensorflow as tf\n",
    "import matplotlib.pyplot as plt\n",
    "import tensorflow.keras.layers as layers\n",
    "import tensorflow.keras.losses as losses\n",
    "import tensorflow.keras.optimizers as optimizers\n",
    "import numpy as np\n",
    "from abc import ABC, abstractmethod\n",
    "import pandas as pd"
   ]
  },
  {
   "cell_type": "markdown",
   "metadata": {},
   "source": [
    "### Policy and Value Classes"
   ]
  },
  {
   "cell_type": "markdown",
   "metadata": {},
   "source": [
    "#### Discrete case\n",
    "The agent reads the state and produces two values: \n",
    "- Action to be taken \n",
    "- Estimate of its future rewards given the current state (i.e - the equivalent of the value of the Q-table)\n",
    "\n",
    "The action is sampled from a discrete distribution where probabilities of the different actions are estimated by the network ('logits')"
   ]
  },
  {
   "cell_type": "code",
   "execution_count": 125,
   "metadata": {},
   "outputs": [],
   "source": [
    "class DiscreteDistribution(tf.keras.Model):\n",
    "    # Sample a random action from the given logits.\n",
    "    def call(self, logits, **kwargs):\n",
    "        return tf.random.categorical(logits, 1)\n",
    "\n",
    "class DiscreteAgent(tf.keras.Model):\n",
    "    def __init__(self, num_actions, hidden_units=128, activation='relu'):\n",
    "        super(DiscreteAgent,self).__init__('discrete_agent')\n",
    "        self.hidden1 = layers.Dense(hidden_units, activation=activation)\n",
    "        self.hidden2 = layers.Dense(hidden_units, activation=activation)\n",
    "        self.logits = layers.Dense(num_actions, name='policy_logits',activation='linear')\n",
    "        self.value = layers.Dense(1, name='value',activation='softplus')\n",
    "        self.dist = DiscreteDistribution()        \n",
    "    \n",
    "    def call(self, inputs, training=None):\n",
    "        x = tf.convert_to_tensor(inputs)\n",
    "        logs = self.hidden1(x)\n",
    "        vals = self.hidden2(x)\n",
    "        return self.logits(logs), self.value(vals)\n",
    "\n",
    "    def action_value(self, obs):\n",
    "        logits, value = self(obs)\n",
    "        action = self.dist(logits)\n",
    "        return np.squeeze(action.numpy()), np.squeeze(value.numpy())"
   ]
  },
  {
   "cell_type": "markdown",
   "metadata": {},
   "source": [
    "#### Basic Test"
   ]
  },
  {
   "cell_type": "code",
   "execution_count": 126,
   "metadata": {},
   "outputs": [
    {
     "name": "stdout",
     "output_type": "stream",
     "text": [
      "Actions:4, Payoffs:0.645588219165802\n",
      "Actions:4, Payoffs:0.645588219165802\n",
      "Actions:7, Payoffs:0.645588219165802\n",
      "Actions:2, Payoffs:0.645588219165802\n",
      "Actions:8, Payoffs:0.645588219165802\n"
     ]
    }
   ],
   "source": [
    "state = [[0.1,0.8]]\n",
    "agent = DiscreteAgent(10)\n",
    "\n",
    "for i in range(5):\n",
    "    a,p = agent.action_value(state)\n",
    "    print('Actions:{}, Payoffs:{}'.format(a,p))\n",
    "    \n"
   ]
  },
  {
   "cell_type": "markdown",
   "metadata": {},
   "source": [
    "### Define Environment -  Power Market Dynamics\n",
    "Here we define the dynamic of the Power market."
   ]
  },
  {
   "cell_type": "code",
   "execution_count": 127,
   "metadata": {},
   "outputs": [],
   "source": [
    "class PowerMarket(ABC):\n",
    "    '''\n",
    "    Power Market abstract base class\n",
    "    '''\n",
    "    def __init__(self, scale, nplayers=1, a=10, b=1, c = [0.01], max_episodes=1, initial_state=[1.]):\n",
    "        self.max_episodes = max_episodes\n",
    "        self.scale = scale\n",
    "        self.nplayers = nplayers\n",
    "        self.cost = c\n",
    "        self.a = a\n",
    "        self.b = b\n",
    "        self.episode = 0                \n",
    "        self.initial_state = np.atleast_1d(initial_state)\n",
    "        self.state = self.initial_state\n",
    "        self.state_size = self.initial_state.shape[0]\n",
    "    \n",
    "    def reset(self):\n",
    "        self.episode = 0\n",
    "        return self.initial_state\n",
    "        \n",
    "    def step(self, actions):\n",
    "        # Cournot price equilibrium\n",
    "        new_state, rewards = self.solver(actions)        \n",
    "        self.state = new_state\n",
    "        self.episode += 1\n",
    "        if self.episode>=self.max_episodes:\n",
    "            done=True\n",
    "        else:\n",
    "            done=False\n",
    "        return np.atleast_1d(new_state), np.array(rewards), done, []\n",
    "    \n",
    "    @abstractmethod\n",
    "    def solver(self, actions):\n",
    "        pass\n",
    "    \n",
    "    \n",
    "class RL1(PowerMarket):\n",
    "    def solver(self, actions):\n",
    "        Q = sum(actions)/self.scale\n",
    "        price = np.max([0,self.a - self.b*Q])\n",
    "        rewards = [(price-c)*a/self.scale for c,a in zip(self.cost,actions)]\n",
    "        return price, rewards\n",
    "           \n",
    "        "
   ]
  },
  {
   "cell_type": "markdown",
   "metadata": {},
   "source": [
    "#### Discrete A2C"
   ]
  },
  {
   "cell_type": "code",
   "execution_count": 128,
   "metadata": {},
   "outputs": [],
   "source": [
    "class DiscreteA2C:\n",
    "    def __init__(self, models, lr=7e-3, gamma=0.99, value_c=0.5, entropy_c=1e-2):\n",
    "        self.gamma = gamma\n",
    "        self.value_c = value_c\n",
    "        self.entropy = entropy_c\n",
    "        self.entropy_c = entropy_c\n",
    "        self.models = models\n",
    "        self.nmodels = len(self.models)\n",
    "        # Model (aka Agent) has two objectives:\n",
    "        # - Minimise policy loss: find the best policy for actions\n",
    "        # - Minimise value loss: find the best approximation of the true 'Q-table' (i.e. the value of being in a state)\n",
    "        for i in range(self.nmodels):\n",
    "            self.models[i].compile(optimizer=optimizers.Adam(lr=lr), loss=[self._logits_loss, self._value_loss])\n",
    "\n",
    "    def test(self, env, render=False):\n",
    "        obs, done, ep_reward = env.reset(), False, 0\n",
    "        while not done:\n",
    "            action, _ = self.model.action_value(obs[None,:].astype('float32'))\n",
    "            obs, reward, done, _ = env.step(action)\n",
    "            ep_reward += reward\n",
    "        return ep_reward\n",
    "    \n",
    "    def train(self, env, batch, updates=20):\n",
    "        actions = np.empty((batch,self.nmodels), dtype=np.int32)\n",
    "        values = np.empty((batch, self.nmodels))\n",
    "        rewards = np.empty((batch, self.nmodels))\n",
    "        dones = np.empty((batch,))\n",
    "        observations = np.empty((batch, env.state_size))\n",
    "        # Training loop: collect samples, send to optimizer, repeat \n",
    "        ep_rewards = [0.0]\n",
    "        next_obs = env.reset()\n",
    "        for update in range(updates):\n",
    "            for step in range(batch):\n",
    "                observations[step] = next_obs.copy()\n",
    "                for i,M in enumerate(self.models):\n",
    "                    actions[step,i], values[step,i] = M.action_value(next_obs[None,:].astype('float32'))\n",
    "                    \n",
    "                next_obs, rewards[step], dones[step], _ = env.step(actions[step,:])\n",
    "                ep_rewards[-1] += rewards[step]\n",
    "                if dones[step]:\n",
    "                    ep_rewards.append(0.0)\n",
    "                    next_obs = env.reset()\n",
    "                    if not  len(ep_rewards)%100:\n",
    "                        print(\"Episode:{}, Reward:{}, Total:{:.2f}, Actions:{}\".format(len(ep_rewards) - 1, ep_rewards[-2], sum(ep_rewards[-2]), actions[step]))\n",
    "\n",
    "            for i,M in enumerate(self.models):\n",
    "                _, next_value = M.action_value(next_obs[None, :].astype('float32'))\n",
    "                returns, advs = self._returns_advantages(rewards[:,i],dones, values[:,i], next_value)\n",
    "                acts_and_advs = np.concatenate([actions[:, [i]], advs[:, None]], axis=-1)\n",
    "                losses = M.train_on_batch(observations, [acts_and_advs, returns])\n",
    "                \n",
    "            self.entropy_c = self.entropy*(1-update/updates) + self.entropy/100*update/updates\n",
    "\n",
    "        return ep_rewards\n",
    "\n",
    "    def _returns_advantages(self, rewards, dones, values, next_value):\n",
    "        returns = np.append(np.zeros_like(rewards), np.atleast_1d(next_value), axis=-1)\n",
    "        # Returns are calculated as discounted sum of future rewards.\n",
    "        for t in reversed(range(rewards.shape[0])):\n",
    "            returns[t] = rewards[t] + self.gamma * returns[t + 1] * (1 - dones[t])\n",
    "        returns = returns[:-1]\n",
    "        # Advantages are equal to returns - baseline (value estimates that the net produced).\n",
    "        advantages = returns - values\n",
    "        return returns, advantages\n",
    "\n",
    "    def _value_loss(self, returns, value):\n",
    "        # Value loss: Net learns to proxy the returns through MSE gradients descent\n",
    "        return self.value_c * losses.mean_squared_error(returns, value)\n",
    "\n",
    "    def _logits_loss(self, actions_and_advantages, logits):\n",
    "        actions, advantages = tf.split(actions_and_advantages, 2, axis=-1)\n",
    "        actions = tf.cast(actions, tf.int32)\n",
    "\n",
    "        # Cross entropy loss - Standard for discrete classfication problems\n",
    "        weighted_sparse_ce = losses.SparseCategoricalCrossentropy(from_logits=True)\n",
    "        \n",
    "        # Net learns to assign high probabilities to good actions. Good actions are defined as the ones with high advantage values.\n",
    "        policy_loss = weighted_sparse_ce(actions, logits, sample_weight=advantages)\n",
    "        \n",
    "        # Entropy loss can be calculated as cross-entropy over itself.\n",
    "        probs = tf.nn.softmax(logits)\n",
    "        entropy_loss = losses.categorical_crossentropy(probs, probs)\n",
    "        \n",
    "        # We want to minimize policy and maximize entropy losses. \n",
    "        return policy_loss - self.entropy_c * entropy_loss"
   ]
  },
  {
   "cell_type": "markdown",
   "metadata": {},
   "source": [
    "### Discrete Power Market"
   ]
  },
  {
   "cell_type": "code",
   "execution_count": 130,
   "metadata": {},
   "outputs": [
    {
     "name": "stdout",
     "output_type": "stream",
     "text": [
      "Episode:99, Reward:[ 0.   12.15  7.56], Total:19.71, Actions:[ 0 45 28]\n",
      "Episode:199, Reward:[6.84 7.41 1.14], Total:15.39, Actions:[36 39  6]\n",
      "Episode:299, Reward:[0. 0. 0.], Total:0.00, Actions:[67 98 72]\n",
      "Episode:399, Reward:[0. 0. 0.], Total:0.00, Actions:[61 95 55]\n",
      "Episode:499, Reward:[0. 0. 0.], Total:0.00, Actions:[96 19 24]\n",
      "Episode:599, Reward:[0. 0. 0.], Total:0.00, Actions:[19  9 79]\n",
      "Episode:699, Reward:[13.69  4.07  5.55], Total:23.31, Actions:[37 11 15]\n",
      "Episode:799, Reward:[4.83 5.04 6.72], Total:16.59, Actions:[23 24 32]\n",
      "Episode:899, Reward:[2.3 4.4 2.3], Total:9.00, Actions:[23 44 23]\n",
      "Episode:999, Reward:[6.44 5.32 8.4 ], Total:20.16, Actions:[23 19 30]\n",
      "Episode:1099, Reward:[5.44 3.36 4.64], Total:13.44, Actions:[34 21 29]\n",
      "Episode:1199, Reward:[6.9 7.2 6.9], Total:21.00, Actions:[23 24 23]\n",
      "Episode:1299, Reward:[5.13 4.56 5.7 ], Total:15.39, Actions:[27 24 30]\n",
      "Episode:1399, Reward:[ 8.19  4.29 11.31], Total:23.79, Actions:[21 11 29]\n",
      "Episode:1499, Reward:[11.75  7.52  5.64], Total:24.91, Actions:[25 16 12]\n",
      "Episode:1599, Reward:[4.14 4.14 6.48], Total:14.76, Actions:[23 23 36]\n",
      "Episode:1699, Reward:[7.75 7.44 6.2 ], Total:21.39, Actions:[25 24 20]\n",
      "Episode:1799, Reward:[6.2  8.06 7.13], Total:21.39, Actions:[20 26 23]\n",
      "Episode:1899, Reward:[5.13 4.94 5.32], Total:15.39, Actions:[27 26 28]\n",
      "Episode:1999, Reward:[7.04 4.84 5.28], Total:17.16, Actions:[32 22 24]\n",
      "Episode:2099, Reward:[6.25 5.5  7.  ], Total:18.75, Actions:[25 22 28]\n",
      "Episode:2199, Reward:[6.67 7.83 6.09], Total:20.59, Actions:[23 27 21]\n",
      "Episode:2299, Reward:[6.3  4.41 5.88], Total:16.59, Actions:[30 21 28]\n",
      "Episode:2399, Reward:[7.8  5.46 5.98], Total:19.24, Actions:[30 21 23]\n",
      "Episode:2499, Reward:[4.68 4.68 5.4 ], Total:14.76, Actions:[26 26 30]\n",
      "Episode:2599, Reward:[5.94 5.94 5.28], Total:17.16, Actions:[27 27 24]\n",
      "Episode:2699, Reward:[8.58 5.94 7.59], Total:22.11, Actions:[26 18 23]\n",
      "Episode:2799, Reward:[7.   6.16 7.  ], Total:20.16, Actions:[25 22 25]\n",
      "Episode:2899, Reward:[5.67 4.62 6.3 ], Total:16.59, Actions:[27 22 30]\n",
      "Episode:2999, Reward:[0. 0. 0.], Total:0.00, Actions:[27 76 25]\n",
      "Episode:3099, Reward:[5.76 4.68 4.32], Total:14.76, Actions:[32 26 24]\n",
      "Episode:3199, Reward:[6.4  8.64 6.72], Total:21.76, Actions:[20 27 21]\n",
      "Episode:3299, Reward:[6.09 7.54 6.96], Total:20.59, Actions:[21 26 24]\n",
      "Episode:3399, Reward:[2.7 3.4 2.9], Total:9.00, Actions:[27 34 29]\n",
      "Episode:3499, Reward:[6.44 6.72 7.  ], Total:20.16, Actions:[23 24 25]\n",
      "Episode:3599, Reward:[4.2  4.34 3.5 ], Total:12.04, Actions:[30 31 25]\n",
      "Episode:3699, Reward:[6.76 4.16 8.32], Total:19.24, Actions:[26 16 32]\n",
      "Episode:3799, Reward:[7.14 7.14 8.16], Total:22.44, Actions:[21 21 24]\n",
      "Episode:3899, Reward:[6.08 5.13 4.18], Total:15.39, Actions:[32 27 22]\n",
      "Episode:3999, Reward:[0. 0. 0.], Total:0.00, Actions:[21 78 29]\n",
      "Episode:4099, Reward:[7.68 5.52 5.04], Total:18.24, Actions:[32 23 21]\n",
      "Episode:4199, Reward:[6.4 4.6 5. ], Total:16.00, Actions:[32 23 25]\n",
      "Episode:4299, Reward:[5.75 5.06 6.9 ], Total:17.71, Actions:[25 22 30]\n",
      "Episode:4399, Reward:[6.5  5.98 6.76], Total:19.24, Actions:[25 23 26]\n",
      "Episode:4499, Reward:[6.09 6.96 7.54], Total:20.59, Actions:[21 24 26]\n",
      "Episode:4599, Reward:[5.1  4.08 4.93], Total:14.11, Actions:[30 24 29]\n",
      "Episode:4699, Reward:[6.  7.8 7.2], Total:21.00, Actions:[20 26 24]\n",
      "Episode:4799, Reward:[2.88 1.32 1.44], Total:5.64, Actions:[48 22 24]\n",
      "Episode:4899, Reward:[6.   6.96 5.28], Total:18.24, Actions:[25 29 22]\n",
      "Episode:4999, Reward:[5.6  6.44 8.12], Total:20.16, Actions:[20 23 29]\n",
      "Episode:5099, Reward:[7.   7.7  8.05], Total:22.75, Actions:[20 22 23]\n",
      "Episode:5199, Reward:[4.48 4.06 3.5 ], Total:12.04, Actions:[32 29 25]\n",
      "Episode:5299, Reward:[6.9 7.5 6.6], Total:21.00, Actions:[23 25 22]\n",
      "Episode:5399, Reward:[4.75 4.56 6.08], Total:15.39, Actions:[25 24 32]\n",
      "Episode:5499, Reward:[7.5  5.25 6.  ], Total:18.75, Actions:[30 21 24]\n",
      "Episode:5599, Reward:[5.8  6.38 8.41], Total:20.59, Actions:[20 22 29]\n",
      "Episode:5699, Reward:[5.98 5.06 6.67], Total:17.71, Actions:[26 22 29]\n",
      "Episode:5799, Reward:[6.44 5.29 5.98], Total:17.71, Actions:[28 23 26]\n",
      "Episode:5899, Reward:[3.92 4.06 4.06], Total:12.04, Actions:[28 29 29]\n",
      "Episode:5999, Reward:[6.6  7.92 7.59], Total:22.11, Actions:[20 24 23]\n",
      "Episode:6099, Reward:[6.76 7.02 5.46], Total:19.24, Actions:[26 27 21]\n",
      "Episode:6199, Reward:[6.5  6.   6.25], Total:18.75, Actions:[26 24 25]\n",
      "Episode:6299, Reward:[6.25 6.25 6.25], Total:18.75, Actions:[25 25 25]\n",
      "Episode:6399, Reward:[6.48 5.76 6.  ], Total:18.24, Actions:[27 24 25]\n",
      "Episode:6499, Reward:[7.56 6.44 6.16], Total:20.16, Actions:[27 23 22]\n",
      "Episode:6599, Reward:[6.44 7.28 6.44], Total:20.16, Actions:[23 26 23]\n",
      "Episode:6699, Reward:[7.84 5.88 6.44], Total:20.16, Actions:[28 21 23]\n",
      "Episode:6799, Reward:[5.67 7.02 7.02], Total:19.71, Actions:[21 26 26]\n",
      "Episode:6899, Reward:[5.88 5.25 5.46], Total:16.59, Actions:[28 25 26]\n",
      "Episode:6999, Reward:[5.72 5.94 5.5 ], Total:17.16, Actions:[26 27 25]\n",
      "Episode:7099, Reward:[6.24 6.24 5.76], Total:18.24, Actions:[26 26 24]\n",
      "Episode:7199, Reward:[6.5  5.98 6.76], Total:19.24, Actions:[25 23 26]\n",
      "Episode:7299, Reward:[5.98 6.21 5.52], Total:17.71, Actions:[26 27 24]\n",
      "Episode:7399, Reward:[7.   5.5  6.25], Total:18.75, Actions:[28 22 25]\n",
      "Episode:7499, Reward:[7.54 6.09 6.96], Total:20.59, Actions:[26 21 24]\n",
      "Episode:7599, Reward:[6.72 5.76 5.76], Total:18.24, Actions:[28 24 24]\n",
      "Episode:7699, Reward:[6.75 6.   6.  ], Total:18.75, Actions:[27 24 24]\n",
      "Episode:7799, Reward:[5.67 5.04 5.88], Total:16.59, Actions:[27 24 28]\n",
      "Episode:7899, Reward:[6.5  6.5  6.24], Total:19.24, Actions:[25 25 24]\n",
      "Episode:7999, Reward:[7.25 6.38 6.96], Total:20.59, Actions:[25 22 24]\n",
      "Episode:8099, Reward:[6.   6.   6.24], Total:18.24, Actions:[25 25 26]\n",
      "Episode:8199, Reward:[6.5  6.76 5.98], Total:19.24, Actions:[25 26 23]\n",
      "Episode:8299, Reward:[5.  5.4 5.6], Total:16.00, Actions:[25 27 28]\n",
      "Episode:8399, Reward:[6.25 6.75 5.75], Total:18.75, Actions:[25 27 23]\n",
      "Episode:8499, Reward:[5.2 5.  5.8], Total:16.00, Actions:[26 25 29]\n",
      "Episode:8599, Reward:[6.44 7.   6.72], Total:20.16, Actions:[23 25 24]\n",
      "Episode:8699, Reward:[6.5  5.75 6.5 ], Total:18.75, Actions:[26 23 26]\n",
      "Episode:8799, Reward:[6.5  5.2  7.54], Total:19.24, Actions:[25 20 29]\n",
      "Episode:8899, Reward:[6.76 5.72 6.76], Total:19.24, Actions:[26 22 26]\n",
      "Episode:8999, Reward:[5.94 5.5  5.72], Total:17.16, Actions:[27 25 26]\n",
      "Episode:9099, Reward:[6.   6.   6.24], Total:18.24, Actions:[25 25 26]\n",
      "Episode:9199, Reward:[6.76 6.5  5.98], Total:19.24, Actions:[26 25 23]\n",
      "Episode:9299, Reward:[6.76 6.24 6.24], Total:19.24, Actions:[26 24 24]\n",
      "Episode:9399, Reward:[7.25 6.09 7.25], Total:20.59, Actions:[25 21 25]\n",
      "Episode:9499, Reward:[6.5  6.25 6.  ], Total:18.75, Actions:[26 25 24]\n",
      "Episode:9599, Reward:[6.5  6.5  6.24], Total:19.24, Actions:[25 25 24]\n",
      "Episode:9699, Reward:[6.76 6.5  5.98], Total:19.24, Actions:[26 25 23]\n",
      "Episode:9799, Reward:[5.04 4.5  5.22], Total:14.76, Actions:[28 25 29]\n",
      "Episode:9899, Reward:[6.5  6.25 6.  ], Total:18.75, Actions:[26 25 24]\n",
      "Episode:9999, Reward:[6.75 6.75 6.21], Total:19.71, Actions:[25 25 23]\n"
     ]
    },
    {
     "data": {
      "text/plain": [
       "Text(0.5, 1.0, 'Simple Agent')"
      ]
     },
     "execution_count": 130,
     "metadata": {},
     "output_type": "execute_result"
    },
    {
     "data": {
      "image/png": "[encoded data removed]",
      "text/plain": [
       "<Figure size 432x288 with 1 Axes>"
      ]
     },
     "metadata": {
      "needs_background": "light"
     },
     "output_type": "display_data"
    }
   ],
   "source": [
    "np.set_printoptions(precision=2)\n",
    "\n",
    "nplayers = 3\n",
    "nactions = 101\n",
    "a = 10\n",
    "b = 1\n",
    "c = [0.,0.,0.]# [0.0,0.1,0.2]\n",
    "scale = (nactions-1)/a*b\n",
    "\n",
    "players = [DiscreteAgent(nactions, hidden_units=16, activation='elu') for i in range(nplayers)]\n",
    "agent = DiscreteA2C(players, entropy_c=0.5)\n",
    "env = RL1(scale=scale,nplayers=nplayers, a=a, b=b, c=c, max_episodes=1)\n",
    "rewards_history = agent.train(env, 1, updates=10000)\n"
   ]
  },
  {
   "cell_type": "code",
   "execution_count": 131,
   "metadata": {},
   "outputs": [
    {
     "data": {
      "text/plain": [
       "Text(0.5, 1.0, 'Total Reward')"
      ]
     },
     "execution_count": 131,
     "metadata": {},
     "output_type": "execute_result"
    },
    {
     "data": {
      "image/png": "[encoded data removed]",
      "text/plain": [
       "<Figure size 432x288 with 1 Axes>"
      ]
     },
     "metadata": {
      "needs_background": "light"
     },
     "output_type": "display_data"
    }
   ],
   "source": [
    "r = pd.DataFrame([np.sum(r) for r in rewards_history])\n",
    "r.ewm(halflife=100).mean().plot()\n",
    "plt.grid()\n",
    "plt.title('Total Reward')"
   ]
  }
 ],
 "metadata": {
  "kernelspec": {
   "display_name": "Python 3.7.6 64-bit ('py37': venv)",
   "language": "python",
   "name": "python37664bitpy37venv13e7f3c8f6f1483ab3d01336a9743e76"
  },
  "language_info": {
   "codemirror_mode": {
    "name": "ipython",
    "version": 3
   },
   "file_extension": ".py",
   "mimetype": "text/x-python",
   "name": "python",
   "nbconvert_exporter": "python",
   "pygments_lexer": "ipython3",
   "version": "3.7.6"
  }
 },
 "nbformat": 4,
 "nbformat_minor": 4
}
