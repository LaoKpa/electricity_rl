{
 "cells": [
  {
   "cell_type": "markdown",
   "metadata": {},
   "source": [
    "# Continuous Advantage-Critic Model in Tensorflow 2.0"
   ]
  },
  {
   "cell_type": "markdown",
   "metadata": {},
   "source": [
    "#### Imports"
   ]
  },
  {
   "cell_type": "code",
   "execution_count": 1,
   "metadata": {},
   "outputs": [],
   "source": [
    "import tensorflow as tf\n",
    "import matplotlib.pyplot as plt\n",
    "import tensorflow.keras.layers as layers\n",
    "import tensorflow.keras.losses as losses\n",
    "import tensorflow.keras.optimizers as optimizers\n",
    "import numpy as np"
   ]
  },
  {
   "cell_type": "markdown",
   "metadata": {},
   "source": [
    "### Policy and Value Classes"
   ]
  },
  {
   "cell_type": "markdown",
   "metadata": {},
   "source": [
    "#### Discrete case\n",
    "The agent reads the state and produces two values: \n",
    "- Action to be taken \n",
    "- Estimate of its future rewards given the current state (i.e - the equivalent of the value of the Q-table)\n",
    "\n",
    "The action is sampled from a discrete distribution where probabilities of the different actions are estimated by the network ('logits')"
   ]
  },
  {
   "cell_type": "code",
   "execution_count": 2,
   "metadata": {},
   "outputs": [],
   "source": [
    "class DiscreteDistribution(tf.keras.Model):\n",
    "    # Sample a random action from the given logits.\n",
    "    def call(self, logits, **kwargs):\n",
    "        return tf.random.categorical(logits, 1)\n",
    "\n",
    "class DiscreteAgent(tf.keras.Model):\n",
    "    def __init__(self, num_actions, hidden_units=64):\n",
    "        super(DiscreteAgent,self).__init__('discrete_agent')\n",
    "        self.hidden1 = layers.Dense(hidden_units, activation='relu')\n",
    "        self.hidden2 = layers.Dense(hidden_units, activation='relu')\n",
    "        self.logits = layers.Dense(num_actions, name='policy_logits')\n",
    "        self.value = layers.Dense(1, name='value')\n",
    "        self.dist = DiscreteDistribution()        \n",
    "    \n",
    "    def call(self, inputs, training=None):\n",
    "        x = tf.convert_to_tensor(inputs)\n",
    "        logs = self.hidden1(x)\n",
    "        vals = self.hidden2(x)\n",
    "        return self.logits(logs), self.value(vals)\n",
    "\n",
    "    def action_value(self, obs):\n",
    "        logits, value = self(obs)\n",
    "        action = self.dist(logits)\n",
    "        return np.squeeze(action.numpy()), np.squeeze(value.numpy())"
   ]
  },
  {
   "cell_type": "markdown",
   "metadata": {},
   "source": [
    "#### Continuous case\n",
    "\n",
    "The continuous case is similr in structure to the discrete case. The agent reads the state and produces two values:\n",
    "- Action to be taken \n",
    "- Estimate of its future rewards given the current state (i.e - the equivalent of the value of the Q-table)\n",
    "\n",
    "The only difference is that the action is sampled from a gaussian distribution with a given mean and variance.\n",
    "<br>The mean and the variance are estimated by the network (like the logits in the discrete case).\n",
    "<br>Finally and 'tanh' function is applied to the action space so that actions are normalized between -1 and 1."
   ]
  },
  {
   "cell_type": "code",
   "execution_count": 217,
   "metadata": {},
   "outputs": [],
   "source": [
    "class ContinuousDistribution(tf.keras.Model):\n",
    "    # Sample a random action from the given logits.\n",
    "    def call(self, mean, var, **kwargs):\n",
    "        actions = [tf.tanh(tf.random.normal((1,),m,v)) for m,v in zip(mean,var)]\n",
    "        return tf.stack(actions,axis=0)\n",
    "\n",
    "class ContinuousAgent(tf.keras.Model):\n",
    "    def __init__(self, num_actions=1, hidden_units=64):\n",
    "        super(ContinuousAgent,self).__init__('continuous_agent')\n",
    "        self.hidden1 = layers.Dense(hidden_units, activation='relu')\n",
    "        self.hidden2 = layers.Dense(hidden_units, activation='relu')\n",
    "        self.mean = layers.Dense(num_actions, name='policy_means')\n",
    "        self.var = layers.Dense(num_actions, name='policy_vars',activation='sigmoid')\n",
    "        self.value = layers.Dense(1, name='value')\n",
    "        self.dist = ContinuousDistribution()        \n",
    "    \n",
    "    def call(self, inputs, training=None):\n",
    "        x = tf.convert_to_tensor(inputs)\n",
    "        logs = self.hidden1(x)\n",
    "        vals = self.hidden2(x)\n",
    "        return self.mean(logs), self.var(logs), self.value(vals)\n",
    "\n",
    "    def action_value(self, obs):\n",
    "        mean,var,value = self(obs)\n",
    "        action = self.dist(mean,var)\n",
    "        return np.squeeze(action.numpy()), np.squeeze(value.numpy())"
   ]
  },
  {
   "cell_type": "markdown",
   "metadata": {},
   "source": [
    "#### Basic Test"
   ]
  },
  {
   "cell_type": "code",
   "execution_count": 218,
   "metadata": {},
   "outputs": [
    {
     "name": "stdout",
     "output_type": "stream",
     "text": [
      "Actions:[ 0.0017717  -0.49248543], Payoffs:[0.03926148 0.05046482]\n",
      "Actions:[3 2], Payoffs:[-0.02423801  0.07189786]\n"
     ]
    }
   ],
   "source": [
    "state = [[0.1,0.5],[0.5,-0.6]]\n",
    "cagent = ContinuousAgent(1)\n",
    "a,p = cagent.action_value(state)\n",
    "print('Actions:{}, Payoffs:{}'.format(a,p))\n",
    "dagent = DiscreteAgent(5)\n",
    "a,p = dagent.action_value(state)\n",
    "print('Actions:{}, Payoffs:{}'.format(a,p))\n"
   ]
  },
  {
   "cell_type": "markdown",
   "metadata": {},
   "source": [
    "### Define Environment -  Power Market Dynamics\n",
    "Here we define the dynamic of the Power market.\n",
    "<br> In this basic examples I've defined the State to be just the Price. The price evolves as function of agent's actions following a simple rule:\n",
    "<br> $P(t+1) = P(t)*e^{\\sum{actions}}$\n",
    "<br> The 'reward' for every action is also defined simply:\n",
    "<br> $r = (P(t+1)-P(t))*action$"
   ]
  },
  {
   "cell_type": "raw",
   "metadata": {},
   "source": [
    "TODO: Define proper market dynamics and reward function"
   ]
  },
  {
   "cell_type": "code",
   "execution_count": 203,
   "metadata": {},
   "outputs": [],
   "source": [
    "class PowerMarket:\n",
    "    def __init__(self, max_episodes, initial_state=[1.], price_lim = [0.1,10]):\n",
    "        self.max_episodes = max_episodes\n",
    "        self.episode = 0                \n",
    "        self.initial_state = np.atleast_1d(initial_state)\n",
    "        self.state = self.initial_state\n",
    "        self.state_size = self.initial_state.shape[0]\n",
    "        self.price_lim = price_lim\n",
    "    \n",
    "    def reset(self):\n",
    "        self.episode = 0\n",
    "        return self.initial_state\n",
    "        \n",
    "    def step(self, actions):\n",
    "        # Do some maths\n",
    "        new_state = np.clip(self.state*np.exp(np.sum(actions)), self.price_lim[0], self.price_lim[1])\n",
    "        rewards = (new_state-self.state)*actions\n",
    "        self.state = new_state\n",
    "        self.episode += 1\n",
    "        if self.episode>=self.max_episodes:\n",
    "            done=True\n",
    "        else:\n",
    "            done=False\n",
    "        return new_state, rewards, done, []\n",
    "    "
   ]
  },
  {
   "cell_type": "markdown",
   "metadata": {},
   "source": [
    "#### Quick dummy test"
   ]
  },
  {
   "cell_type": "code",
   "execution_count": 205,
   "metadata": {},
   "outputs": [
    {
     "name": "stdout",
     "output_type": "stream",
     "text": [
      "Episide:1,Price:[0.67032005], Rewards:[-0.032968    0.16483998]\n",
      "Episide:2,Price:[0.44932896], Rewards:[-0.02209911  0.11049554]\n",
      "Episide:3,Price:[0.30119421], Rewards:[-0.01481348  0.07406738]\n",
      "Episide:4,Price:[0.20189652], Rewards:[-0.00992977  0.04964885]\n",
      "Episide:5,Price:[0.13533528], Rewards:[-0.00665612  0.03328062]\n",
      "Episide:6,Price:[0.1], Rewards:[-0.00353353  0.01766764]\n",
      "Episide:7,Price:[0.1], Rewards:[ 0. -0.]\n",
      "Episide:8,Price:[0.1], Rewards:[ 0. -0.]\n",
      "Episide:9,Price:[0.1], Rewards:[ 0. -0.]\n",
      "Episide:10,Price:[0.1], Rewards:[ 0. -0.]\n"
     ]
    }
   ],
   "source": [
    "env = PowerMarket(10,[1.])\n",
    "i,done = 0,False\n",
    "while not done:\n",
    "    i+=1\n",
    "    s,r,done,_ = env.step([0.1,-0.5])\n",
    "    print('Episide:{},Price:{}, Rewards:{}'.format(i,s,r))   \n"
   ]
  },
  {
   "cell_type": "markdown",
   "metadata": {},
   "source": [
    "### Advantage Actor-Critic Class\n",
    "For a good overview of the different RL methods:\n",
    "https://spinningup.openai.com/en/latest/spinningup/rl_intro2.html\n",
    "\n",
    "The following code is based on an implementation of A2C:\n",
    "http://inoryy.com/post/tensorflow2-deep-reinforcement-learning/\n"
   ]
  },
  {
   "cell_type": "markdown",
   "metadata": {},
   "source": [
    "#### Discrete Version"
   ]
  },
  {
   "cell_type": "code",
   "execution_count": 206,
   "metadata": {},
   "outputs": [],
   "source": [
    "class DiscreteA2C:\n",
    "    def __init__(self, model, lr=7e-3, gamma=0.99, value_c=0.5, entropy_c=1e-4):\n",
    "        self.gamma = gamma\n",
    "        self.value_c = value_c\n",
    "        self.entropy_c = entropy_c\n",
    "        self.model = model\n",
    "        # Model (aka Agent) has two objectives:\n",
    "        # - Minimise policy loss: find the best policy for actions\n",
    "        # - Minimise value loss: find the best approximation of the true 'Q-table' (i.e. the value of being in a state)\n",
    "        self.model.compile(optimizer=optimizers.Adam(lr=lr), loss=[self._logits_loss, self._value_loss])\n",
    "\n",
    "    def test(self, env, render=False):\n",
    "        obs, done, ep_reward = env.reset(), False, 0\n",
    "        while not done:\n",
    "            action, _ = self.model.action_value(obs[None,:].astype('float32'))\n",
    "            obs, reward, done, _ = env.step(action)\n",
    "            ep_reward += reward\n",
    "        return ep_reward\n",
    "    \n",
    "    def train(self, env, batch, updates=20):\n",
    "        actions = np.empty((batch,), dtype=np.int32)\n",
    "        rewards, dones, values = np.empty((3, batch))\n",
    "        #observations = np.empty((batch, env.state_size))\n",
    "        observations = np.empty((batch,) + env.observation_space.shape)\n",
    "        # Training loop: collect samples, send to optimizer, repeat \n",
    "        ep_rewards = [0.0]\n",
    "        next_obs = env.reset()\n",
    "        for update in range(updates):\n",
    "            for step in range(batch):\n",
    "                observations[step] = next_obs.copy()\n",
    "                actions[step], values[step] = self.model.action_value(next_obs[None,:].astype('float32'))\n",
    "                next_obs, rewards[step], dones[step], _ = env.step(actions[step])\n",
    "\n",
    "                ep_rewards[-1] += rewards[step]\n",
    "                if dones[step]:\n",
    "                    ep_rewards.append(0.0)\n",
    "                    next_obs = env.reset()\n",
    "                    if not  len(ep_rewards)%10:\n",
    "                        print(\"Episode: %03d, Reward: %03d\" % (len(ep_rewards) - 1, ep_rewards[-2]))\n",
    "\n",
    "            _, next_value = self.model.action_value(next_obs[None, :].astype('float32'))\n",
    "            returns, advs = self._returns_advantages(rewards,dones, values, next_value)\n",
    "            acts_and_advs = np.concatenate([actions[:, None], advs[:, None]], axis=-1)\n",
    "            losses = self.model.train_on_batch(observations, [acts_and_advs, returns])\n",
    "\n",
    "        return ep_rewards\n",
    "\n",
    "    def _returns_advantages(self, rewards, dones, values, next_value):\n",
    "        returns = np.append(np.zeros_like(rewards), np.atleast_1d(next_value), axis=-1)\n",
    "        # Returns are calculated as discounted sum of future rewards.\n",
    "        for t in reversed(range(rewards.shape[0])):\n",
    "            returns[t] = rewards[t] + self.gamma * returns[t + 1] * (1 - dones[t])\n",
    "        returns = returns[:-1]\n",
    "        # Advantages are equal to returns - baseline (value estimates that the net produced).\n",
    "        advantages = returns - values\n",
    "        return returns, advantages\n",
    "\n",
    "    def _value_loss(self, returns, value):\n",
    "        # Value loss: Net learns to proxy the returns through MSE gradients descent\n",
    "        return self.value_c * losses.mean_squared_error(returns, value)\n",
    "\n",
    "    def _logits_loss(self, actions_and_advantages, logits):\n",
    "        actions, advantages = tf.split(actions_and_advantages, 2, axis=-1)\n",
    "        actions = tf.cast(actions, tf.int32)\n",
    "\n",
    "        # Cross entropy loss - Standard for discrete classfication problems\n",
    "        weighted_sparse_ce = losses.SparseCategoricalCrossentropy(from_logits=True)\n",
    "        \n",
    "        # Net learns to assign high probabilities to good actions. Good actions are defined as the ones with high advantage values.\n",
    "        policy_loss = weighted_sparse_ce(actions, logits, sample_weight=advantages)\n",
    "        \n",
    "        # Entropy loss can be calculated as cross-entropy over itself.\n",
    "        probs = tf.nn.softmax(logits)\n",
    "        entropy_loss = losses.categorical_crossentropy(probs, probs)\n",
    "        \n",
    "        # We want to minimize policy and maximize entropy losses. \n",
    "        return policy_loss - self.entropy_c * entropy_loss"
   ]
  },
  {
   "cell_type": "markdown",
   "metadata": {},
   "source": [
    "#### Test Discrete Agent on Gym Cartpole task"
   ]
  },
  {
   "cell_type": "code",
   "execution_count": 123,
   "metadata": {},
   "outputs": [
    {
     "name": "stdout",
     "output_type": "stream",
     "text": [
      "Episode: 009, Reward: 024\n",
      "Episode: 019, Reward: 012\n",
      "Episode: 029, Reward: 017\n",
      "Episode: 039, Reward: 033\n",
      "Episode: 049, Reward: 021\n",
      "Episode: 059, Reward: 028\n",
      "Episode: 069, Reward: 061\n",
      "Episode: 079, Reward: 080\n",
      "Episode: 089, Reward: 026\n",
      "Episode: 099, Reward: 083\n",
      "Episode: 109, Reward: 045\n",
      "Episode: 119, Reward: 027\n",
      "Episode: 129, Reward: 060\n",
      "Episode: 139, Reward: 061\n",
      "Episode: 149, Reward: 125\n",
      "Episode: 159, Reward: 074\n",
      "Episode: 169, Reward: 200\n",
      "Episode: 179, Reward: 137\n",
      "Episode: 189, Reward: 167\n",
      "Episode: 199, Reward: 116\n",
      "Episode: 209, Reward: 200\n",
      "Episode: 219, Reward: 200\n",
      "Episode: 229, Reward: 200\n",
      "Episode: 239, Reward: 168\n",
      "Episode: 249, Reward: 200\n",
      "Episode: 259, Reward: 134\n",
      "Episode: 269, Reward: 164\n",
      "Episode: 279, Reward: 149\n",
      "Episode: 289, Reward: 139\n",
      "Episode: 299, Reward: 200\n",
      "Episode: 309, Reward: 200\n",
      "Episode: 319, Reward: 200\n",
      "Episode: 329, Reward: 200\n",
      "Episode: 339, Reward: 200\n",
      "Episode: 349, Reward: 200\n",
      "Episode: 359, Reward: 150\n",
      "Episode: 369, Reward: 200\n",
      "Episode: 379, Reward: 200\n",
      "Episode: 389, Reward: 200\n"
     ]
    },
    {
     "data": {
      "text/plain": [
       "[<matplotlib.lines.Line2D at 0x161c1859e08>]"
      ]
     },
     "execution_count": 123,
     "metadata": {},
     "output_type": "execute_result"
    },
    {
     "data": {
      "image/png": "[encoded data removed]",
      "text/plain": [
       "<Figure size 432x288 with 1 Axes>"
      ]
     },
     "metadata": {
      "needs_background": "light"
     },
     "output_type": "display_data"
    }
   ],
   "source": [
    "import gym\n",
    "env = gym.make('CartPole-v0')\n",
    "dmodel = DiscreteAgent(num_actions=env.action_space.n)\n",
    "agent = DiscreteA2C(dmodel)\n",
    "rewards_history = agent.train(env, 200, updates=250)\n",
    "plt.plot(rewards_history[:-1])"
   ]
  },
  {
   "cell_type": "markdown",
   "metadata": {},
   "source": [
    "#### Continuous Version"
   ]
  },
  {
   "cell_type": "code",
   "execution_count": 222,
   "metadata": {},
   "outputs": [],
   "source": [
    "class ContinuousA2C:\n",
    "    def __init__(self, model, lr=7e-3, gamma=0.99, value_c=0.5, entropy_c=1e-4):\n",
    "        self.gamma = gamma\n",
    "        self.value_c = value_c\n",
    "        self.entropy_c = entropy_c\n",
    "        self.model = model\n",
    "        # Model (aka Agent) has two objectives:\n",
    "        # - Minimise policy loss: find the best policy for actions\n",
    "        # - Minimise value loss: find the best approximation of the true 'Q-table' (i.e. the value of being in a state)\n",
    "        self.model.compile(optimizer=optimizers.Adam(lr=lr), \n",
    "                        loss=[self._mean_loss, self._var_loss, self._value_loss],\n",
    "                        loss_weights = [1., self.entropy_c, self.value_c ])\n",
    "\n",
    "    def test(self, env, render=False):\n",
    "        obs, done, ep_reward = env.reset(), False, 0\n",
    "        while not done:\n",
    "            action, _ = self.model.action_value(obs[None,:].astype('float32'))\n",
    "            obs, reward, done, _ = env.step(action)\n",
    "            ep_reward += reward\n",
    "        return ep_reward\n",
    "    \n",
    "    def train(self, env, batch, updates=20):\n",
    "        actions = np.empty((batch,), dtype=np.float32)\n",
    "        rewards, dones, values = np.empty((3, batch))\n",
    "        observations = np.empty((batch, env.state_size))\n",
    "        #observations = np.empty((batch,) + env.observation_space.shape)\n",
    "        # Training loop: collect samples, send to optimizer, repeat \n",
    "        ep_rewards = [0.0]\n",
    "        next_obs = env.reset()\n",
    "        for update in range(updates):\n",
    "            for step in range(batch):\n",
    "                observations[step] = next_obs.copy()\n",
    "                actions[step], values[step] = self.model.action_value(next_obs[None,:].astype('float32'))\n",
    "                next_obs, rewards[step], dones[step], _ = env.step(actions[step])\n",
    "                ep_rewards[-1] += rewards[step]\n",
    "                if dones[step]:\n",
    "                    ep_rewards.append(0.0)\n",
    "                    next_obs = env.reset()\n",
    "                    if not  len(ep_rewards)%10:\n",
    "                        print(\"Episode: %03d, Reward: %03d\" % (len(ep_rewards) - 1, ep_rewards[-2]))\n",
    "\n",
    "            _, next_value = self.model.action_value(next_obs[None, :].astype('float32'))\n",
    "            returns, advs = self._returns_advantages(rewards,dones, values, next_value)\n",
    "            acts_and_advs = np.concatenate([actions[:, None], advs[:, None]], axis=-1)\n",
    "            losses = self.model.train_on_batch(observations, [acts_and_advs, returns,np.zeros_like(returns)])\n",
    "\n",
    "        return ep_rewards\n",
    "\n",
    "    def _returns_advantages(self, rewards, dones, values, next_value):\n",
    "        returns = np.append(np.zeros_like(rewards), np.atleast_1d(next_value), axis=-1)\n",
    "        # Returns are calculated as discounted sum of future rewards.\n",
    "        for t in reversed(range(rewards.shape[0])):\n",
    "            returns[t] = rewards[t] + self.gamma * returns[t + 1] * (1 - dones[t])\n",
    "        returns = returns[:-1]\n",
    "        # Advantages are equal to returns - baseline (value estimates that the net produced).\n",
    "        advantages = returns - values\n",
    "        return returns, advantages\n",
    "\n",
    "    def _value_loss(self, returns, value):\n",
    "        # Value loss: Net learns to proxy the returns through MSE gradients descent\n",
    "        return losses.mean_squared_error(returns, value)\n",
    "\n",
    "    def _mean_loss(self, actions_and_advantages, mean):\n",
    "        actions, advantages = tf.split(actions_and_advantages, 2, axis=-1)\n",
    "        actions = tf.cast(actions, tf.int32)\n",
    "        \n",
    "        # Weighted MSE in the continuous case\n",
    "        mse = losses.MeanSquaredError()\n",
    "        policy_loss = mse(actions, mean, sample_weight=advantages)                \n",
    "        return policy_loss\n",
    "    \n",
    "    def _var_loss(self, _, var):\n",
    "        entropy_loss = tf.reduce_mean(var)\n",
    "        # We want to maximize entropy. \n",
    "        return -entropy_loss    "
   ]
  },
  {
   "cell_type": "markdown",
   "metadata": {},
   "source": [
    "#### Test Continuous Agent on dummy Power market"
   ]
  },
  {
   "cell_type": "code",
   "execution_count": 227,
   "metadata": {},
   "outputs": [
    {
     "name": "stdout",
     "output_type": "stream",
     "text": [
      "Episode: 009, Reward: 010\n",
      "Episode: 019, Reward: 000\n",
      "Episode: 029, Reward: 000\n",
      "Episode: 039, Reward: 000\n",
      "Episode: 049, Reward: 001\n",
      "Episode: 059, Reward: 000\n",
      "Episode: 069, Reward: 000\n",
      "Episode: 079, Reward: 000\n",
      "Episode: 089, Reward: 001\n",
      "Episode: 099, Reward: 000\n"
     ]
    },
    {
     "data": {
      "text/plain": [
       "[<matplotlib.lines.Line2D at 0x161ca634b88>]"
      ]
     },
     "execution_count": 227,
     "metadata": {},
     "output_type": "execute_result"
    },
    {
     "data": {
      "image/png": "[encoded data removed]",
      "text/plain": [
       "<Figure size 432x288 with 1 Axes>"
      ]
     },
     "metadata": {
      "needs_background": "light"
     },
     "output_type": "display_data"
    }
   ],
   "source": [
    "env = PowerMarket(10,[1.])\n",
    "cmodel = ContinuousAgent(num_actions=1)\n",
    "agent = ContinuousA2C(cmodel)\n",
    "rewards_history = agent.train(env, env.max_episodes, updates=100)\n",
    "plt.plot(rewards_history[:-1])\n"
   ]
  }
 ],
 "metadata": {
  "kernelspec": {
   "display_name": "Python 3.7.6 64-bit ('py37': venv)",
   "language": "python",
   "name": "python37664bitpy37venv13e7f3c8f6f1483ab3d01336a9743e76"
  },
  "language_info": {
   "codemirror_mode": {
    "name": "ipython",
    "version": 3
   },
   "file_extension": ".py",
   "mimetype": "text/x-python",
   "name": "python",
   "nbconvert_exporter": "python",
   "pygments_lexer": "ipython3",
   "version": "3.7.6"
  }
 },
 "nbformat": 4,
 "nbformat_minor": 4
}
