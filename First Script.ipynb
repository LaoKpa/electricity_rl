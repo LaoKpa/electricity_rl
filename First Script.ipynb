{
 "cells": [
  {
   "cell_type": "markdown",
   "metadata": {},
   "source": [
    "# Continuous Advantage-Critic Model in Tensorflow 2.0"
   ]
  },
  {
   "cell_type": "markdown",
   "metadata": {},
   "source": [
    "#### Imports"
   ]
  },
  {
   "cell_type": "code",
   "execution_count": 1,
   "metadata": {},
   "outputs": [],
   "source": [
    "import tensorflow as tf\n",
    "import matplotlib.pyplot as plt\n",
    "import tensorflow.keras.layers as layers\n",
    "import tensorflow.keras.losses as losses\n",
    "import tensorflow.keras.optimizers as optimizers\n",
    "import numpy as np\n",
    "from abc import ABC, abstractmethod\n",
    ""
   ]
  },
  {
   "cell_type": "markdown",
   "metadata": {},
   "source": [
    "### Policy and Value Classes"
   ]
  },
  {
   "cell_type": "markdown",
   "metadata": {},
   "source": [
    "#### Discrete case\n",
    "The agent reads the state and produces two values: \n",
    "- Action to be taken \n",
    "- Estimate of its future rewards given the current state (i.e - the equivalent of the value of the Q-table)\n",
    "\n",
    "The action is sampled from a discrete distribution where probabilities of the different actions are estimated by the network ('logits')"
   ]
  },
  {
   "cell_type": "code",
   "execution_count": 4,
   "metadata": {},
   "outputs": [],
   "source": [
    "class DiscreteDistribution(tf.keras.Model):\n",
    "    # Sample a random action from the given logits.\n",
    "    def call(self, logits, **kwargs):\n",
    "        return tf.random.categorical(logits, 1)\n",
    "\n",
    "class DiscreteAgent(tf.keras.Model):\n",
    "    def __init__(self, num_actions, hidden_units=64):\n",
    "        super(DiscreteAgent,self).__init__('discrete_agent')\n",
    "        self.hidden1 = layers.Dense(hidden_units, activation='relu')\n",
    "        self.hidden2 = layers.Dense(hidden_units, activation='relu')\n",
    "        self.logits = layers.Dense(num_actions, name='policy_logits')\n",
    "        self.value = layers.Dense(1, name='value')\n",
    "        self.dist = DiscreteDistribution()        \n",
    "    \n",
    "    def call(self, inputs, training=None):\n",
    "        x = tf.convert_to_tensor(inputs)\n",
    "        logs = self.hidden1(x)\n",
    "        vals = self.hidden2(x)\n",
    "        return self.logits(logs), self.value(vals)\n",
    "\n",
    "    def action_value(self, obs):\n",
    "        logits, value = self(obs)\n",
    "        action = self.dist(logits)\n",
    "        return np.squeeze(action.numpy()), np.squeeze(value.numpy())"
   ]
  },
  {
   "cell_type": "markdown",
   "metadata": {},
   "source": [
    "#### Continuous case\n",
    "\n",
    "The continuous case is similr in structure to the discrete case. The agent reads the state and produces two values:\n",
    "- Action to be taken \n",
    "- Estimate of its future rewards given the current state (i.e - the equivalent of the value of the Q-table)\n",
    "\n",
    "The only difference is that the action is sampled from a gaussian distribution with a given mean and variance.\n",
    "<br>The mean and the variance are estimated by the network (like the logits in the discrete case).\n",
    "<br>Finally and 'tanh' function is applied to the action space so that actions are normalized between -1 and 1."
   ]
  },
  {
   "cell_type": "code",
   "execution_count": 18,
   "metadata": {},
   "outputs": [],
   "source": [
    "class ContinuousDistribution(tf.keras.Model):\n",
    "    # Sample a random action from the given logits.\n",
    "    def call(self, mean, var, scale, **kwargs):\n",
    "        actions = [tf.sigmoid(tf.random.normal((1,),m,v))*(scale[1]-scale[0])+scale[0] for m,v in zip(mean,var)]\n",
    "        return tf.stack(actions,axis=0)\n",
    "\n",
    "class ContinuousAgent(tf.keras.Model):\n",
    "    def __init__(self, num_actions=1, hidden_units=64):\n",
    "        super(ContinuousAgent,self).__init__('continuous_agent')\n",
    "        self.hidden1 = layers.Dense(hidden_units, activation='relu')\n",
    "        self.hidden2 = layers.Dense(hidden_units, activation='relu')\n",
    "        self.mean = layers.Dense(num_actions, name='policy_means')\n",
    "        self.var = layers.Dense(num_actions, name='policy_vars',activation='sigmoid')\n",
    "        self.value = layers.Dense(1, name='value')\n",
    "        self.dist = ContinuousDistribution()        \n",
    "    \n",
    "    def call(self, inputs, training=None):\n",
    "        x = tf.convert_to_tensor(inputs)\n",
    "        logs = self.hidden1(x)\n",
    "        vals = self.hidden2(x)\n",
    "        return self.mean(logs), self.var(logs), self.value(vals)\n",
    "\n",
    "    def action_value(self, obs, scale=[-1,1]):\n",
    "        mean,var,value = self(obs)\n",
    "        action = self.dist(mean,var,scale)\n",
    "        return np.squeeze(action.numpy()), np.squeeze(value.numpy())"
   ]
  },
  {
   "cell_type": "markdown",
   "metadata": {},
   "source": [
    "#### Basic Test"
   ]
  },
  {
   "cell_type": "code",
   "execution_count": 30,
   "metadata": {},
   "outputs": [
    {
     "name": "stdout",
     "output_type": "stream",
     "text": [
      "Actions:[58.614067 72.03658 ], Payoffs:[-0.03658922 -0.31885666]\n",
      "Actions:[4 1], Payoffs:[ 0.06391153 -0.01181646]\n"
     ]
    }
   ],
   "source": [
    "state = [[0.1,0.5],[0.5,-0.6]]\n",
    "cagent = ContinuousAgent(1)\n",
    "a,p = cagent.action_value(state,[-10,100])\n",
    "print('Actions:{}, Payoffs:{}'.format(a,p))\n",
    "dagent = DiscreteAgent(5)\n",
    "a,p = dagent.action_value(state)\n",
    "print('Actions:{}, Payoffs:{}'.format(a,p))\n",
    ""
   ]
  },
  {
   "cell_type": "markdown",
   "metadata": {},
   "source": [
    "### Define Environment -  Power Market Dynamics\n",
    "Here we define the dynamic of the Power market."
   ]
  },
  {
   "cell_type": "code",
   "execution_count": 12,
   "metadata": {},
   "outputs": [],
   "source": [
    "class PowerMarket(ABC):\n",
    "    '''\n",
    "    Power Market abstract base class\n",
    "    '''\n",
    "    def __init__(self, nplayers=1, a=0.01, b=0.5, c = 0.01, max_episodes=1, initial_state=[1.]):\n",
    "        self.max_episodes = max_episodes\n",
    "        self.nplayers = nplayers\n",
    "        self.cost = c\n",
    "        self.a = a\n",
    "        self.b = b\n",
    "        self.episode = 0                \n",
    "        self.initial_state = np.atleast_1d(initial_state)\n",
    "        self.state = self.initial_state\n",
    "        self.state_size = self.initial_state.shape[0]\n",
    "    \n",
    "    def reset(self):\n",
    "        self.episode = 0\n",
    "        return self.initial_state\n",
    "        \n",
    "    def step(self, actions):\n",
    "        # Cournot price equilibrium\n",
    "        new_state = self.solver(actions)\n",
    "        rewards = [(new_state-self.state)*a-self.cost*np.abs(a) for a in actions]        \n",
    "        self.state = new_state\n",
    "        self.episode += 1\n",
    "        if self.episode>=self.max_episodes:\n",
    "            done=True\n",
    "        else:\n",
    "            done=False\n",
    "        return new_state, np.array(rewards), done, []\n",
    "    \n",
    "    @abstractmethod\n",
    "    def solver(self, actions):\n",
    "        pass\n",
    "    \n",
    "    \n",
    "class Perfect(PowerMarket):\n",
    "    def solver(self, actions, **args):\n",
    "        pass\n",
    "    \n",
    "class Cournot(PowerMarket):\n",
    "    def solver(self, actions,**args):\n",
    "        pass            \n",
    "\n",
    "class Monopol(PowerMarket):\n",
    "    def solver(self, actions,**args):\n",
    "        pass            \n",
    "\n",
    "class Cartel(PowerMarket):\n",
    "    def solver(self, actions,**args):\n",
    "        pass            \n",
    "    \n",
    "        \n",
    "        "
   ]
  },
  {
   "cell_type": "markdown",
   "metadata": {},
   "source": [
    "#### Quick dummy test"
   ]
  },
  {
   "cell_type": "code",
   "execution_count": 13,
   "metadata": {},
   "outputs": [
    {
     "name": "stdout",
     "output_type": "stream",
     "text": [
      "Episide:1,Price:[0.67032005], Rewards:[-0.032968    0.16483998]\n",
      "Episide:2,Price:[0.44932896], Rewards:[-0.02209911  0.11049554]\n",
      "Episide:3,Price:[0.30119421], Rewards:[-0.01481348  0.07406738]\n",
      "Episide:4,Price:[0.20189652], Rewards:[-0.00992977  0.04964885]\n",
      "Episide:5,Price:[0.13533528], Rewards:[-0.00665612  0.03328062]\n",
      "Episide:6,Price:[0.1], Rewards:[-0.00353353  0.01766764]\n",
      "Episide:7,Price:[0.1], Rewards:[ 0. -0.]\n",
      "Episide:8,Price:[0.1], Rewards:[ 0. -0.]\n",
      "Episide:9,Price:[0.1], Rewards:[ 0. -0.]\n",
      "Episide:10,Price:[0.1], Rewards:[ 0. -0.]\n"
     ]
    }
   ],
   "source": [
    "env = PowerMarket(10,[1.])\n",
    "i,done = 0,False\n",
    "while not done:\n",
    "    i+=1\n",
    "    s,r,done,_ = env.step([0.1,-0.5])\n",
    "    print('Episide:{},Price:{}, Rewards:{}'.format(i,s,r))   \n"
   ]
  },
  {
   "cell_type": "markdown",
   "metadata": {},
   "source": [
    "### Advantage Actor-Critic Class\n",
    "For a good overview of the different RL methods:\n",
    "https://spinningup.openai.com/en/latest/spinningup/rl_intro2.html\n",
    "\n",
    "The following code is based on an implementation of A2C:\n",
    "http://inoryy.com/post/tensorflow2-deep-reinforcement-learning/\n"
   ]
  },
  {
   "cell_type": "markdown",
   "metadata": {},
   "source": [
    "#### Discrete Version"
   ]
  },
  {
   "cell_type": "code",
   "execution_count": 14,
   "metadata": {},
   "outputs": [],
   "source": [
    "# TODO: Multi-Agent\n",
    "class DiscreteA2C:\n",
    "    def __init__(self, models, lr=7e-3, gamma=0.99, value_c=0.5, entropy_c=1e-4):\n",
    "        self.gamma = gamma\n",
    "        self.value_c = value_c\n",
    "        self.entropy_c = entropy_c\n",
    "        self.models = models\n",
    "        self.nmodels = len(self.models)\n",
    "        # Model (aka Agent) has two objectives:\n",
    "        # - Minimise policy loss: find the best policy for actions\n",
    "        # - Minimise value loss: find the best approximation of the true 'Q-table' (i.e. the value of being in a state)\n",
    "        for i in range(self.nmodels):\n",
    "            self.models[i].compile(optimizer=optimizers.Adam(lr=lr), loss=[self._logits_loss, self._value_loss])\n",
    "\n",
    "    def test(self, env, render=False):\n",
    "        obs, done, ep_reward = env.reset(), False, 0\n",
    "        while not done:\n",
    "            action, _ = self.model.action_value(obs[None,:].astype('float32'))\n",
    "            obs, reward, done, _ = env.step(action)\n",
    "            ep_reward += reward\n",
    "        return ep_reward\n",
    "    \n",
    "    def train(self, env, batch, updates=20):\n",
    "        actions = np.empty((batch,self.nmodels), dtype=np.int32)\n",
    "        values = np.empty((batch, self.nmodels))\n",
    "        rewards, dones = np.empty((2, batch))\n",
    "        #observations = np.empty((batch, env.state_size))\n",
    "        observations = np.empty((batch,) + env.observation_space.shape)\n",
    "        # Training loop: collect samples, send to optimizer, repeat \n",
    "        ep_rewards = [0.0]\n",
    "        next_obs = env.reset()\n",
    "        for update in range(updates):\n",
    "            for step in range(batch):\n",
    "                observations[step] = next_obs.copy()\n",
    "                for i,M in enumerate(self.models):\n",
    "                    actions[step,i], values[step,i] = M.action_value(next_obs[None,:].astype('float32'))\n",
    "                    \n",
    "                action = int(np.sign(np.mean(actions[step].astype('float32'))))\n",
    "                next_obs, rewards[step], dones[step], _ = env.step(action)\n",
    "\n",
    "                ep_rewards[-1] += rewards[step]\n",
    "                if dones[step]:\n",
    "                    ep_rewards.append(0.0)\n",
    "                    next_obs = env.reset()\n",
    "                    if not  len(ep_rewards)%10:\n",
    "                        print(\"Episode: %03d, Reward: %03d\" % (len(ep_rewards) - 1, ep_rewards[-2]))\n",
    "\n",
    "            for i,M in enumerate(self.models):\n",
    "                _, next_value = M.action_value(next_obs[None, :].astype('float32'))\n",
    "                returns, advs = self._returns_advantages(rewards,dones, values[:,i], next_value)\n",
    "                acts_and_advs = np.concatenate([actions[:, [i]], advs[:, None]], axis=-1)\n",
    "                losses = M.train_on_batch(observations, [acts_and_advs, returns])\n",
    "\n",
    "        return ep_rewards\n",
    "\n",
    "    def _returns_advantages(self, rewards, dones, values, next_value):\n",
    "        returns = np.append(np.zeros_like(rewards), np.atleast_1d(next_value), axis=-1)\n",
    "        # Returns are calculated as discounted sum of future rewards.\n",
    "        for t in reversed(range(rewards.shape[0])):\n",
    "            returns[t] = rewards[t] + self.gamma * returns[t + 1] * (1 - dones[t])\n",
    "        returns = returns[:-1]\n",
    "        # Advantages are equal to returns - baseline (value estimates that the net produced).\n",
    "        advantages = returns - values\n",
    "        return returns, advantages\n",
    "\n",
    "    def _value_loss(self, returns, value):\n",
    "        # Value loss: Net learns to proxy the returns through MSE gradients descent\n",
    "        return self.value_c * losses.mean_squared_error(returns, value)\n",
    "\n",
    "    def _logits_loss(self, actions_and_advantages, logits):\n",
    "        actions, advantages = tf.split(actions_and_advantages, 2, axis=-1)\n",
    "        actions = tf.cast(actions, tf.int32)\n",
    "\n",
    "        # Cross entropy loss - Standard for discrete classfication problems\n",
    "        weighted_sparse_ce = losses.SparseCategoricalCrossentropy(from_logits=True)\n",
    "        \n",
    "        # Net learns to assign high probabilities to good actions. Good actions are defined as the ones with high advantage values.\n",
    "        policy_loss = weighted_sparse_ce(actions, logits, sample_weight=advantages)\n",
    "        \n",
    "        # Entropy loss can be calculated as cross-entropy over itself.\n",
    "        probs = tf.nn.softmax(logits)\n",
    "        entropy_loss = losses.categorical_crossentropy(probs, probs)\n",
    "        \n",
    "        # We want to minimize policy and maximize entropy losses. \n",
    "        return policy_loss - self.entropy_c * entropy_loss"
   ]
  },
  {
   "cell_type": "markdown",
   "metadata": {},
   "source": [
    "#### Test Discrete Agent on Gym Cartpole task"
   ]
  },
  {
   "cell_type": "code",
   "execution_count": 15,
   "metadata": {},
   "outputs": [
    {
     "name": "stdout",
     "output_type": "stream",
     "text": [
      "Episode: 009, Reward: 012\n",
      "Episode: 019, Reward: 015\n",
      "Episode: 029, Reward: 010\n",
      "Episode: 039, Reward: 008\n",
      "Episode: 049, Reward: 010\n",
      "Episode: 059, Reward: 012\n",
      "Episode: 069, Reward: 015\n",
      "Episode: 079, Reward: 009\n",
      "Episode: 089, Reward: 011\n",
      "Episode: 099, Reward: 012\n",
      "Episode: 109, Reward: 014\n",
      "Episode: 119, Reward: 010\n",
      "Episode: 129, Reward: 011\n",
      "Episode: 139, Reward: 012\n",
      "Episode: 149, Reward: 010\n",
      "Episode: 159, Reward: 009\n",
      "Episode: 169, Reward: 010\n",
      "Episode: 179, Reward: 010\n",
      "Episode: 189, Reward: 015\n",
      "Episode: 199, Reward: 010\n",
      "Episode: 209, Reward: 010\n",
      "Episode: 219, Reward: 012\n",
      "Episode: 229, Reward: 014\n",
      "Episode: 239, Reward: 011\n",
      "Episode: 249, Reward: 010\n",
      "Episode: 259, Reward: 021\n",
      "Episode: 269, Reward: 012\n",
      "Episode: 279, Reward: 013\n",
      "Episode: 289, Reward: 012\n",
      "Episode: 299, Reward: 013\n",
      "Episode: 309, Reward: 010\n",
      "Episode: 319, Reward: 021\n",
      "Episode: 329, Reward: 020\n",
      "Episode: 339, Reward: 014\n",
      "Episode: 349, Reward: 024\n",
      "Episode: 359, Reward: 015\n",
      "Episode: 369, Reward: 018\n",
      "Episode: 379, Reward: 015\n",
      "Episode: 389, Reward: 011\n",
      "Episode: 399, Reward: 018\n",
      "Episode: 409, Reward: 021\n",
      "Episode: 419, Reward: 026\n",
      "Episode: 429, Reward: 025\n",
      "Episode: 439, Reward: 014\n",
      "Episode: 449, Reward: 028\n",
      "Episode: 459, Reward: 020\n",
      "Episode: 469, Reward: 029\n",
      "Episode: 479, Reward: 016\n",
      "Episode: 489, Reward: 089\n",
      "Episode: 499, Reward: 036\n",
      "Episode: 509, Reward: 036\n",
      "Episode: 519, Reward: 039\n",
      "Episode: 529, Reward: 041\n",
      "Episode: 539, Reward: 014\n",
      "Episode: 549, Reward: 036\n",
      "Episode: 559, Reward: 021\n",
      "Episode: 569, Reward: 036\n",
      "Episode: 579, Reward: 073\n",
      "Episode: 589, Reward: 082\n",
      "Episode: 599, Reward: 124\n",
      "Episode: 609, Reward: 120\n",
      "Episode: 619, Reward: 200\n",
      "Episode: 629, Reward: 200\n",
      "Episode: 639, Reward: 200\n",
      "Episode: 649, Reward: 200\n",
      "Episode: 659, Reward: 164\n",
      "Episode: 669, Reward: 200\n",
      "Episode: 679, Reward: 200\n",
      "Episode: 689, Reward: 200\n",
      "Episode: 699, Reward: 151\n",
      "Episode: 709, Reward: 096\n",
      "Episode: 719, Reward: 160\n",
      "Episode: 729, Reward: 107\n",
      "Episode: 739, Reward: 200\n",
      "Episode: 749, Reward: 137\n",
      "Episode: 759, Reward: 140\n",
      "Episode: 769, Reward: 200\n",
      "Episode: 779, Reward: 200\n",
      "Episode: 789, Reward: 200\n",
      "Episode: 799, Reward: 200\n"
     ]
    },
    {
     "data": {
      "text/plain": [
       "[<matplotlib.lines.Line2D at 0x2a3a4827c48>]"
      ]
     },
     "execution_count": 15,
     "metadata": {},
     "output_type": "execute_result"
    },
    {
     "data": {
      "image/png": "[encoded data removed]",
      "text/plain": [
       "<Figure size 432x288 with 1 Axes>"
      ]
     },
     "metadata": {
      "needs_background": "light"
     },
     "output_type": "display_data"
    }
   ],
   "source": [
    "import gym\n",
    "env = gym.make('CartPole-v0')\n",
    "dmodel = [DiscreteAgent(num_actions=env.action_space.n) for i in range(3)]\n",
    "agent = DiscreteA2C(dmodel)\n",
    "rewards_history = agent.train(env, 200, updates=250)\n",
    "plt.plot(rewards_history[:-1])"
   ]
  },
  {
   "cell_type": "markdown",
   "metadata": {},
   "source": [
    "#### Continuous Version"
   ]
  },
  {
   "cell_type": "code",
   "execution_count": 22,
   "metadata": {},
   "outputs": [],
   "source": [
    "class ContinuousA2C:\n",
    "    def __init__(self, model, lr=7e-3, gamma=0.99, value_c=0.5, entropy_c=1e-4):\n",
    "        self.gamma = gamma\n",
    "        self.value_c = value_c\n",
    "        self.entropy_c = entropy_c\n",
    "        self.models = models\n",
    "        self.nmodel = len(models)\n",
    "        # Model (aka Agent) has two objectives:\n",
    "        # - Minimise policy loss: find the best policy for actions\n",
    "        # - Minimise value loss: find the best approximation of the true 'Q-table' (i.e. the value of being in a state)\n",
    "        for i in range(self.nmodels):\n",
    "            self.models[i].compile(optimizer=optimizers.Adam(lr=lr), \n",
    "                            loss=[self._mean_loss, self._var_loss, self._value_loss],\n",
    "                            loss_weights = [1., self.entropy_c, self.value_c ])\n",
    "\n",
    "    def test(self, env, render=False):\n",
    "        obs, done, ep_reward = env.reset(), False, 0\n",
    "        while not done:\n",
    "            action, _ = self.model.action_value(obs[None,:].astype('float32'))\n",
    "            obs, reward, done, _ = env.step(action)\n",
    "            ep_reward += reward\n",
    "        return ep_reward\n",
    "    \n",
    "    def train(self, env, batch, updates=20):\n",
    "        actions,values = np.empty((2,batch,self.nmodels), dtype=np.float32)\n",
    "        rewards, dones,  = np.empty((2, batch))\n",
    "        observations = np.empty((batch, env.state_size))\n",
    "        #observations = np.empty((batch,) + env.observation_space.shape)\n",
    "        # Training loop: collect samples, send to optimizer, repeat \n",
    "        ep_rewards = [0.0]\n",
    "        next_obs = env.reset()\n",
    "        for update in range(updates):\n",
    "            for step in range(batch):                \n",
    "                observations[step] = next_obs.copy()\n",
    "                for i,M in enumerate(self.models):\n",
    "                    actions[step,i], values[step,i] = M.action_value(next_obs[None,:].astype('float32'))\n",
    "                    \n",
    "                next_obs, rewards[step], dones[step], _ = env.step(actions[step])\n",
    "                ep_rewards[-1] += rewards[step]\n",
    "                if dones[step]:\n",
    "                    ep_rewards.append(0.0)\n",
    "                    next_obs = env.reset()\n",
    "                    if not  len(ep_rewards)%10:\n",
    "                        print(\"Episode: %03d, Reward: %03d\" % (len(ep_rewards) - 1, ep_rewards[-2]))\n",
    "\n",
    "            for i,M in enumerate(self.models):\n",
    "                _, next_value = M.action_value(next_obs[None, :].astype('float32'))\n",
    "                returns, advs = self._returns_advantages(rewards,dones, values[:,i], next_value)\n",
    "                acts_and_advs = np.concatenate([actions[:, [i]], advs[:, None]], axis=-1)\n",
    "                losses = M.train_on_batch(observations, [acts_and_advs, returns,np.zeros_like(returns)])\n",
    "\n",
    "        return ep_rewards\n",
    "\n",
    "    def _returns_advantages(self, rewards, dones, values, next_value):\n",
    "        returns = np.append(np.zeros_like(rewards), np.atleast_1d(next_value), axis=-1)\n",
    "        # Returns are calculated as discounted sum of future rewards.\n",
    "        for t in reversed(range(rewards.shape[0])):\n",
    "            returns[t] = rewards[t] + self.gamma * returns[t + 1] * (1 - dones[t])\n",
    "        returns = returns[:-1]\n",
    "        # Advantages are equal to returns - baseline (value estimates that the net produced).\n",
    "        advantages = returns - values\n",
    "        return returns, advantages\n",
    "\n",
    "    def _value_loss(self, returns, value):\n",
    "        # Value loss: Net learns to proxy the returns through MSE gradients descent\n",
    "        return losses.mean_squared_error(returns, value)\n",
    "\n",
    "    def _mean_loss(self, actions_and_advantages, mean):\n",
    "        actions, advantages = tf.split(actions_and_advantages, 2, axis=-1)\n",
    "        actions = tf.cast(actions, tf.int32)\n",
    "        \n",
    "        # Weighted MSE in the continuous case\n",
    "        mse = losses.MeanSquaredError()\n",
    "        policy_loss = mse(actions, mean, sample_weight=advantages)                \n",
    "        return policy_loss\n",
    "    \n",
    "    def _var_loss(self, _, var):\n",
    "        entropy_loss = tf.reduce_mean(var)\n",
    "        # We want to maximize entropy. \n",
    "        return -entropy_loss    "
   ]
  },
  {
   "cell_type": "markdown",
   "metadata": {},
   "source": [
    "#### Test Continuous Agent on dummy Power market"
   ]
  },
  {
   "cell_type": "code",
   "execution_count": 23,
   "metadata": {},
   "outputs": [
    {
     "name": "stdout",
     "output_type": "stream",
     "text": [
      "Episode: 009, Reward: 008\n",
      "Episode: 019, Reward: 002\n",
      "Episode: 029, Reward: 015\n",
      "Episode: 039, Reward: 000\n",
      "Episode: 049, Reward: 006\n",
      "Episode: 059, Reward: 023\n",
      "Episode: 069, Reward: 006\n",
      "Episode: 079, Reward: 000\n",
      "Episode: 089, Reward: 000\n",
      "Episode: 099, Reward: 006\n"
     ]
    },
    {
     "data": {
      "text/plain": [
       "[<matplotlib.lines.Line2D at 0x27031b53d08>]"
      ]
     },
     "execution_count": 23,
     "metadata": {},
     "output_type": "execute_result"
    },
    {
     "data": {
      "image/png": "[encoded data removed]",
      "text/plain": [
       "<Figure size 432x288 with 1 Axes>"
      ]
     },
     "metadata": {
      "needs_background": "light"
     },
     "output_type": "display_data"
    }
   ],
   "source": [
    "env = PowerMarket(10,[1.])\n",
    "cmodel = ContinuousAgent(num_actions=1)\n",
    "agent = ContinuousA2C(cmodel)\n",
    "rewards_history = agent.train(env, env.max_episodes, updates=100)\n",
    "plt.plot(rewards_history[:-1])\n"
   ]
  }
 ],
 "metadata": {
  "kernelspec": {
   "display_name": "Python 3",
   "language": "python",
   "name": "python3"
  },
  "language_info": {
   "codemirror_mode": {
    "name": "ipython",
    "version": 3
   },
   "file_extension": ".py",
   "mimetype": "text/x-python",
   "name": "python",
   "nbconvert_exporter": "python",
   "pygments_lexer": "ipython3",
   "version": "3.7.4"
  }
 },
 "nbformat": 4,
 "nbformat_minor": 4
}
