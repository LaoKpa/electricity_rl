{
 "cells": [
  {
   "cell_type": "markdown",
   "metadata": {},
   "source": [
    "# QLearning Time-Difference Method"
   ]
  },
  {
   "cell_type": "markdown",
   "metadata": {},
   "source": [
    "#### Imports"
   ]
  },
  {
   "cell_type": "code",
   "execution_count": 73,
   "metadata": {},
   "outputs": [],
   "source": [
    "import tensorflow as tf\n",
    "import matplotlib.pyplot as plt\n",
    "import tensorflow.keras.layers as layers\n",
    "import tensorflow.keras.losses as losses\n",
    "import tensorflow.keras.optimizers as optimizers\n",
    "import numpy as np\n",
    "from abc import ABC, abstractmethod\n",
    "import pandas as pd"
   ]
  },
  {
   "cell_type": "markdown",
   "metadata": {},
   "source": [
    "### Environment\n"
   ]
  },
  {
   "cell_type": "code",
   "execution_count": 74,
   "metadata": {},
   "outputs": [],
   "source": [
    "class PowerMarket(ABC):\n",
    "    '''\n",
    "    Power Market abstract base class\n",
    "    '''\n",
    "    def __init__(self, scale, nplayers=1, a=10, b=1, c = [0.01], max_episodes=1, initial_state=[1.]):\n",
    "        self.max_episodes = max_episodes\n",
    "        self.scale = scale\n",
    "        self.nplayers = nplayers\n",
    "        self.cost = c\n",
    "        self.a = a\n",
    "        self.b = b\n",
    "        self.episode = 0                \n",
    "        self.initial_state = np.atleast_1d(initial_state)\n",
    "        self.state = self.initial_state\n",
    "        self.state_size = self.initial_state.shape[0]\n",
    "    \n",
    "    def reset(self):\n",
    "        self.episode = 0\n",
    "        return self.initial_state\n",
    "        \n",
    "    def step(self, actions):\n",
    "        # Cournot price equilibrium\n",
    "        new_state, rewards = self.solver(actions)        \n",
    "        self.state = new_state\n",
    "        self.episode += 1\n",
    "        if self.episode>=self.max_episodes:\n",
    "            done=True\n",
    "        else:\n",
    "            done=False\n",
    "        return new_state, np.array(rewards), done, []\n",
    "    \n",
    "    @abstractmethod\n",
    "    def solver(self, actions):\n",
    "        pass\n",
    "    \n",
    "    \n",
    "class RL1(PowerMarket):\n",
    "    def solver(self, actions):\n",
    "        Q = sum(actions)/self.scale\n",
    "        price = np.max([0,self.a - self.b*Q])\n",
    "        #price = self.a - self.b*Q\n",
    "        rewards = [(price-c)*a/self.scale for c,a in zip(self.cost,actions)]\n",
    "        return np.atleast_1d(price), rewards\n",
    "           \n",
    "        "
   ]
  },
  {
   "cell_type": "markdown",
   "metadata": {},
   "source": [
    "### Q-Learning Agent"
   ]
  },
  {
   "cell_type": "code",
   "execution_count": 75,
   "metadata": {},
   "outputs": [],
   "source": [
    "def discount_rewards(r, gamma):\n",
    "    \"\"\" \n",
    "    Compute discounted reward \n",
    "    \"\"\"\n",
    "    discounted_r = np.zeros_like(r)\n",
    "    running_add = 0\n",
    "    for t in reversed(range(0, r.size)):\n",
    "        running_add = running_add * gamma + r[t]\n",
    "        discounted_r[t] = running_add\n",
    "    return discounted_r\n",
    "\n",
    "class QAgent(tf.keras.Model):\n",
    "    def __init__(self, num_actions):\n",
    "        super(QAgent,self).__init__('q_agent')\n",
    "        # These lines establish the feed-forward part of the network used to estimate Q(s, a)\n",
    "        # state = slim.one_hot_encoding(self.state_input, num_states)\n",
    "        self.q_out = layers.Dense(num_actions, use_bias = False, kernel_initializer= 'zeros', activation='linear')\n",
    "        \n",
    "    def call(self, state):\n",
    "        return self.q_out(state)\n",
    "\n",
    "    def choose_action(self, state):\n",
    "        q = self(state)\n",
    "        a = tf.argmax(q,1)\n",
    "        return a, q\n",
    "               "
   ]
  },
  {
   "cell_type": "markdown",
   "metadata": {},
   "source": [
    "### Hyperparamters"
   ]
  },
  {
   "cell_type": "code",
   "execution_count": 114,
   "metadata": {},
   "outputs": [],
   "source": [
    "np.set_printoptions(precision=2)\n",
    "\n",
    "y = .99 # Discount rate\n",
    "start_e = 1 # Starting epsilon value\n",
    "end_e = 0.1 # Final epsilon value\n",
    "annealing_steps = 1000 # Number of steps to anneal epsilon\n",
    "num_episodes = 100000 # Total episodes to run environment\n",
    "learning_rate = 1e-2 # Agent learning rate\n",
    "\n",
    "nplayers = 3\n",
    "nactions = 101\n",
    "a = 10\n",
    "b = 1\n",
    "c = [0.,0.,0.]# [0.0,0.1,0.2]\n",
    "scale = (nactions-1)/a*b\n",
    "\n",
    "optimizer = optimizers.Adam(learning_rate=learning_rate)\n",
    "lossfun = losses.MeanSquaredError()"
   ]
  },
  {
   "cell_type": "markdown",
   "metadata": {},
   "source": [
    "### Training"
   ]
  },
  {
   "cell_type": "code",
   "execution_count": 115,
   "metadata": {},
   "outputs": [],
   "source": [
    "agent = [QAgent(nactions) for i in range(nplayers)]\n",
    "[a.compile(optimizer=optimizer, loss=lossfun) for a in agent]    \n",
    "\n",
    "e_drop = (start_e - end_e) / annealing_steps\n",
    "e = start_e    \n",
    "value_table = np.zeros((nplayers, env.state_size))\n",
    "\n",
    "# Create lists to contain total rewards and steps per episode\n",
    "episode_list = []\n",
    "reward_list = [[]]*nplayers\n",
    "loss_list = [[]]*nplayers\n",
    "for i in range(num_episodes):\n",
    "    state = env.reset().astype('float32')[None,:]\n",
    "    total_reward = [0]*nplayers\n",
    "    done = False\n",
    "    steps = 0\n",
    "    while not done:\n",
    "        steps +=1\n",
    "        # Choose an action by greedily (with e chance of random action) from the Q-network\n",
    "        action,Q = [],[]\n",
    "        for a in agent:\n",
    "            a, q = a.choose_action(state)\n",
    "            a = a[0]\n",
    "            if np.random.rand(1) < e:\n",
    "                a = np.random.randint(0, nactions)            \n",
    "            action.append(a)\n",
    "            Q.append(q)\n",
    "\n",
    "        # Get new state and reward from environment\n",
    "        state_1, reward, done, _ = env.step(np.atleast_1d(action))\n",
    "        state_1 = state_1.astype('float32')[None,:]\n",
    "        \n",
    "        for i in range(len(agent)):\n",
    "            targetQ = Q[i]\n",
    "            if not done:\n",
    "                Q1 = agent[i](state_1)\n",
    "                maxQ1 = np.max(Q1)\n",
    "                targetQ[0, action] = reward + y*maxQ1\n",
    "            else:\n",
    "                targetQ = Q[i].numpy()\n",
    "                targetQ[0, action] = reward\n",
    "\n",
    "            # Train our network using target and estimated Q values\n",
    "            loss = agent[i].train_on_batch(state, targetQ)\n",
    "            q_table = agent[i](state)\n",
    "            total_reward[i] += reward\n",
    "            value_table[i] = np.mean(q_table, axis=1)\n",
    "            loss_list[i].append(loss)\n",
    "            \n",
    "        state = state_1\n",
    "        if e > end_e:\n",
    "            e -= e_drop\n",
    "        \n",
    "    episode_list.append(steps)\n",
    "    reward_list.append(total_reward)\n",
    "    if i % 100 == 0 and i != 0:\n",
    "        print (\"Mean Reward: {}\".format(np.mean(reward_list[-100:])))\n"
   ]
  },
  {
   "cell_type": "code",
   "execution_count": 123,
   "metadata": {},
   "outputs": [
    {
     "data": {
      "image/png": "[encoded data removed]",
      "text/plain": [
       "<Figure size 432x288 with 1 Axes>"
      ]
     },
     "metadata": {
      "needs_background": "light"
     },
     "output_type": "display_data"
    }
   ],
   "source": [
    "r = pd.DataFrame(np.concatenate(reward_list[3:],axis=0))\n",
    "r.sum(axis=1).ewm(halflife=10000).mean().plot()\n",
    "plt.grid()"
   ]
  }
 ],
 "metadata": {
  "kernelspec": {
   "display_name": "Python 3.7.6 64-bit ('py37': venv)",
   "language": "python",
   "name": "python37664bitpy37venv13e7f3c8f6f1483ab3d01336a9743e76"
  },
  "language_info": {
   "codemirror_mode": {
    "name": "ipython",
    "version": 3
   },
   "file_extension": ".py",
   "mimetype": "text/x-python",
   "name": "python",
   "nbconvert_exporter": "python",
   "pygments_lexer": "ipython3",
   "version": "3.7.6"
  }
 },
 "nbformat": 4,
 "nbformat_minor": 4
}
